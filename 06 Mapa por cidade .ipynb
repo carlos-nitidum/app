{
 "cells": [
  {
   "cell_type": "markdown",
   "metadata": {},
   "source": [
    "## Filtro por Cidade"
   ]
  },
  {
   "cell_type": "code",
   "execution_count": 1,
   "metadata": {},
   "outputs": [],
   "source": [
    "import  pandas as pd\n",
    "import plotly.graph_objects as go"
   ]
  },
  {
   "cell_type": "code",
   "execution_count": 2,
   "metadata": {},
   "outputs": [],
   "source": [
    "dados = pd.read_csv('dados/novo_dados_primeira_300k_infancia.csv')"
   ]
  },
  {
   "cell_type": "code",
   "execution_count": 4,
   "metadata": {},
   "outputs": [],
   "source": [
    "cidades = dados['nome'].drop_duplicates().values"
   ]
  },
  {
   "cell_type": "code",
   "execution_count": 5,
   "metadata": {},
   "outputs": [
    {
     "data": {
      "text/plain": [
       "array(['Abadia de Goiás', 'Abadiânia', 'Acreúna', 'Adelândia',\n",
       "       'Água Fria de Goiás', 'Água Limpa', 'Águas Lindas de Goiás',\n",
       "       'Alexânia', 'Aloândia', 'Alto Horizonte', 'Alto Paraíso de Goiás',\n",
       "       'Alvorada do Norte', 'Amaralina', 'Americano do Brasil',\n",
       "       'Amorinópolis', 'Anápolis', 'Anhanguera', 'Anicuns',\n",
       "       'Aparecida de Goiânia', 'Aparecida do Rio Doce', 'Aporé', 'Araçu',\n",
       "       'Aragarças', 'Aragoiânia', 'Araguapaz', 'Arenópolis', 'Aruanã',\n",
       "       'Aurilândia', 'Avelinópolis', 'Baliza', 'Barro Alto',\n",
       "       'Bela Vista de Goiás', 'Bom Jardim de Goiás', 'Bom Jesus de Goiás',\n",
       "       'Bonfinópolis', 'Bonópolis', 'Brazabrantes', 'Britânia',\n",
       "       'Buriti Alegre', 'Buriti de Goiás', 'Buritinópolis', 'Cabeceiras',\n",
       "       'Cachoeira Alta', 'Cachoeira de Goiás', 'Cachoeira Dourada',\n",
       "       'Caçu', 'Caiapônia', 'Caldas Novas', 'Caldazinha',\n",
       "       'Campestre de Goiás', 'Campinaçu', 'Campinorte',\n",
       "       'Campo Alegre de Goiás', 'Campo Limpo de Goiás', 'Campos Belos',\n",
       "       'Campos Verdes', 'Carmo do Rio Verde', 'Castelândia', 'Catalão',\n",
       "       'Divinópolis de Goiás', 'Formosa', 'Formoso', 'Gameleira de Goiás',\n",
       "       'Goianápolis', 'Goiandira', 'Goianésia', 'Goiânia', 'Israelândia',\n",
       "       'Itaberaí', 'Itaguari', 'Itaguaru', 'Itajá', 'Itapaci',\n",
       "       'Itapirapuã', 'Itapuranga', 'Itarumã', 'Itauçu', 'Itumbiara',\n",
       "       'Ivolândia', 'Jandaia', 'Jaraguá', 'Jataí', 'Jaupaci', 'Jesúpolis',\n",
       "       'Joviânia', 'Jussara', 'Lagoa Santa', 'Leopoldo de Bulhões',\n",
       "       'Luziânia'], dtype=object)"
      ]
     },
     "execution_count": 5,
     "metadata": {},
     "output_type": "execute_result"
    }
   ],
   "source": [
    "cidades"
   ]
  },
  {
   "cell_type": "code",
   "execution_count": null,
   "metadata": {},
   "outputs": [],
   "source": [
    "qtd_cidade = dados['nome'].value_counts()"
   ]
  },
  {
   "cell_type": "code",
   "execution_count": null,
   "metadata": {},
   "outputs": [],
   "source": [
    "familias_por_cidade = pd.DataFrame(qtd_cidade)"
   ]
  },
  {
   "cell_type": "code",
   "execution_count": null,
   "metadata": {},
   "outputs": [],
   "source": [
    "familias_por_cidade.columns.name = 'Cidade'"
   ]
  },
  {
   "cell_type": "code",
   "execution_count": null,
   "metadata": {},
   "outputs": [],
   "source": [
    "df = familias_por_cidade.to_csv('familias_por_cidade.csv' )"
   ]
  },
  {
   "cell_type": "code",
   "execution_count": null,
   "metadata": {},
   "outputs": [],
   "source": [
    "familias_por_cidade = pd.read_csv('familias_por_cidade.csv')"
   ]
  },
  {
   "cell_type": "code",
   "execution_count": null,
   "metadata": {},
   "outputs": [],
   "source": [
    "familias_por_cidade"
   ]
  },
  {
   "cell_type": "code",
   "execution_count": null,
   "metadata": {},
   "outputs": [],
   "source": [
    "mapbox_access_token = 'pk.eyJ1Ijoibml0aWR1bSIsImEiOiJjazIzb3VyY2IweGw3M2dwZ3UwZXl1d2doIn0.50iJcFOOs2VBlvJ10uKV4g'"
   ]
  },
  {
   "cell_type": "code",
   "execution_count": null,
   "metadata": {},
   "outputs": [],
   "source": [
    "def filrando_por_cidade(nome_cidade:'recebe o nome do municipo'):\n",
    "    \n",
    "\n",
    "\n",
    "    selecao = (dados['nome'] == nome_cidade)\n",
    "    df1 = dados[selecao]\n",
    "        \n",
    "    \n",
    "    site_lat = df1['lat_corrigido']\n",
    "    site_lon = df1['lon_corrigido']\n",
    "\n",
    "\n",
    "    fig = go.Figure(go.Scattermapbox(\n",
    "\n",
    "            lat=site_lat,\n",
    "            lon=site_lon,\n",
    "            mode='markers',\n",
    "            marker=go.scattermapbox.Marker(\n",
    "                size=9\n",
    "            ),\n",
    "            text = df1['nome'],\n",
    "            #text = dados['DESC_CONDICAO_CADASTRO'],\n",
    "\n",
    "\n",
    "        ))\n",
    "\n",
    "    fig.update_layout(\n",
    "        autosize=True,\n",
    "        hovermode='closest',\n",
    "        mapbox=go.layout.Mapbox(\n",
    "            accesstoken=mapbox_access_token,\n",
    "            bearing=0,\n",
    "            center=go.layout.mapbox.Center(\n",
    "                lat=-16,\n",
    "                lon=-48\n",
    "            ),\n",
    "            pitch=0,\n",
    "            zoom=5\n",
    "        ),\n",
    "    )\n",
    "\n",
    "    #fig.show()\n",
    "    return fig.show()"
   ]
  },
  {
   "cell_type": "code",
   "execution_count": null,
   "metadata": {},
   "outputs": [],
   "source": [
    "filrando_por_cidade('Anápolis')"
   ]
  },
  {
   "cell_type": "code",
   "execution_count": null,
   "metadata": {},
   "outputs": [],
   "source": [
    "filrando_por_cidade('Goiânia')"
   ]
  },
  {
   "cell_type": "code",
   "execution_count": null,
   "metadata": {},
   "outputs": [],
   "source": [
    "filrando_por_cidade('Anhanguera')"
   ]
  },
  {
   "cell_type": "code",
   "execution_count": null,
   "metadata": {},
   "outputs": [],
   "source": [
    "filrando_por_cidade('Catalão')"
   ]
  },
  {
   "cell_type": "code",
   "execution_count": null,
   "metadata": {},
   "outputs": [],
   "source": []
  },
  {
   "cell_type": "code",
   "execution_count": null,
   "metadata": {},
   "outputs": [],
   "source": []
  }
 ],
 "metadata": {
  "kernelspec": {
   "display_name": "Python 3",
   "language": "python",
   "name": "python3"
  },
  "language_info": {
   "codemirror_mode": {
    "name": "ipython",
    "version": 3
   },
   "file_extension": ".py",
   "mimetype": "text/x-python",
   "name": "python",
   "nbconvert_exporter": "python",
   "pygments_lexer": "ipython3",
   "version": "3.7.3"
  }
 },
 "nbformat": 4,
 "nbformat_minor": 2
}
