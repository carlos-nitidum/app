{
 "cells": [
  {
   "cell_type": "code",
   "execution_count": 1,
   "metadata": {},
   "outputs": [],
   "source": [
    "import pandas as pd\n",
    "import numpy as np\n",
    "from unicodedata import normalize"
   ]
  },
  {
   "cell_type": "code",
   "execution_count": 2,
   "metadata": {},
   "outputs": [
    {
     "name": "stderr",
     "output_type": "stream",
     "text": [
      "C:\\ProgramData\\Anaconda3\\lib\\site-packages\\IPython\\core\\interactiveshell.py:3057: DtypeWarning: Columns (27) have mixed types. Specify dtype option on import or set low_memory=False.\n",
      "  interactivity=interactivity, compiler=compiler, result=result)\n"
     ]
    }
   ],
   "source": [
    "dados = pd.read_csv('dados/1a_infancia_300k.csv')"
   ]
  },
  {
   "cell_type": "code",
   "execution_count": 3,
   "metadata": {},
   "outputs": [
    {
     "data": {
      "text/html": [
       "<div>\n",
       "<style scoped>\n",
       "    .dataframe tbody tr th:only-of-type {\n",
       "        vertical-align: middle;\n",
       "    }\n",
       "\n",
       "    .dataframe tbody tr th {\n",
       "        vertical-align: top;\n",
       "    }\n",
       "\n",
       "    .dataframe thead th {\n",
       "        text-align: right;\n",
       "    }\n",
       "</style>\n",
       "<table border=\"1\" class=\"dataframe\">\n",
       "  <thead>\n",
       "    <tr style=\"text-align: right;\">\n",
       "      <th></th>\n",
       "      <th>codigo_ibge</th>\n",
       "      <th>nome</th>\n",
       "      <th>latitude</th>\n",
       "      <th>longitude</th>\n",
       "      <th>capital</th>\n",
       "      <th>codigo_uf</th>\n",
       "      <th>ID_FAMILIA_CADUNICO</th>\n",
       "      <th>LAT</th>\n",
       "      <th>LOG</th>\n",
       "      <th>CODG_FAMILIAR</th>\n",
       "      <th>...</th>\n",
       "      <th>TIPO_CALCAMENTO</th>\n",
       "      <th>TIPO_ESPECIE_DOMICILIO</th>\n",
       "      <th>QTDE_CRIANCAS_ATE_3ANOS</th>\n",
       "      <th>QTDE_CRIANCAS_ATE_6ANOS</th>\n",
       "      <th>QTDE_MAIOR18_NAO_SABE_LER</th>\n",
       "      <th>QTDE_ENTRE6E17_NAO_FREQ_ESCOLA</th>\n",
       "      <th>QTDE_PESSOA_INTERNACAO</th>\n",
       "      <th>VALR_DESPESA_ALUGUEL</th>\n",
       "      <th>INDI_FAMILIA_RECEBE_BPC</th>\n",
       "      <th>INDI_RECEBE_AJUDA_DEFIC_TERC</th>\n",
       "    </tr>\n",
       "  </thead>\n",
       "  <tbody>\n",
       "    <tr>\n",
       "      <th>0</th>\n",
       "      <td>5200050</td>\n",
       "      <td>Abadia de Goiás</td>\n",
       "      <td>-16.7573</td>\n",
       "      <td>-49.4412</td>\n",
       "      <td>0</td>\n",
       "      <td>52</td>\n",
       "      <td>3961</td>\n",
       "      <td>-16.765013</td>\n",
       "      <td>-49.427965</td>\n",
       "      <td>2468632346</td>\n",
       "      <td>...</td>\n",
       "      <td>1.0</td>\n",
       "      <td>1.0</td>\n",
       "      <td>0</td>\n",
       "      <td>0</td>\n",
       "      <td>0</td>\n",
       "      <td>0</td>\n",
       "      <td>0</td>\n",
       "      <td>0.0</td>\n",
       "      <td>S</td>\n",
       "      <td>N</td>\n",
       "    </tr>\n",
       "    <tr>\n",
       "      <th>1</th>\n",
       "      <td>5200050</td>\n",
       "      <td>Abadia de Goiás</td>\n",
       "      <td>-16.7573</td>\n",
       "      <td>-49.4412</td>\n",
       "      <td>0</td>\n",
       "      <td>52</td>\n",
       "      <td>5466</td>\n",
       "      <td>-16.764245</td>\n",
       "      <td>-49.429278</td>\n",
       "      <td>3670635491</td>\n",
       "      <td>...</td>\n",
       "      <td>2.0</td>\n",
       "      <td>1.0</td>\n",
       "      <td>0</td>\n",
       "      <td>0</td>\n",
       "      <td>0</td>\n",
       "      <td>0</td>\n",
       "      <td>0</td>\n",
       "      <td>0.0</td>\n",
       "      <td>N</td>\n",
       "      <td>N</td>\n",
       "    </tr>\n",
       "    <tr>\n",
       "      <th>2</th>\n",
       "      <td>5200050</td>\n",
       "      <td>Abadia de Goiás</td>\n",
       "      <td>-16.7573</td>\n",
       "      <td>-49.4412</td>\n",
       "      <td>0</td>\n",
       "      <td>52</td>\n",
       "      <td>6314</td>\n",
       "      <td>-16.755795</td>\n",
       "      <td>-49.434151</td>\n",
       "      <td>4283312380</td>\n",
       "      <td>...</td>\n",
       "      <td>1.0</td>\n",
       "      <td>1.0</td>\n",
       "      <td>0</td>\n",
       "      <td>0</td>\n",
       "      <td>1</td>\n",
       "      <td>0</td>\n",
       "      <td>0</td>\n",
       "      <td>0.0</td>\n",
       "      <td>S</td>\n",
       "      <td>N</td>\n",
       "    </tr>\n",
       "    <tr>\n",
       "      <th>3</th>\n",
       "      <td>5200050</td>\n",
       "      <td>Abadia de Goiás</td>\n",
       "      <td>-16.7573</td>\n",
       "      <td>-49.4412</td>\n",
       "      <td>0</td>\n",
       "      <td>52</td>\n",
       "      <td>6554</td>\n",
       "      <td>-16.756827</td>\n",
       "      <td>-49.435021</td>\n",
       "      <td>4409597728</td>\n",
       "      <td>...</td>\n",
       "      <td>1.0</td>\n",
       "      <td>1.0</td>\n",
       "      <td>0</td>\n",
       "      <td>0</td>\n",
       "      <td>0</td>\n",
       "      <td>0</td>\n",
       "      <td>0</td>\n",
       "      <td>0.0</td>\n",
       "      <td>N</td>\n",
       "      <td>N</td>\n",
       "    </tr>\n",
       "    <tr>\n",
       "      <th>4</th>\n",
       "      <td>5200050</td>\n",
       "      <td>Abadia de Goiás</td>\n",
       "      <td>-16.7573</td>\n",
       "      <td>-49.4412</td>\n",
       "      <td>0</td>\n",
       "      <td>52</td>\n",
       "      <td>6289</td>\n",
       "      <td>-16.758034</td>\n",
       "      <td>-49.435705</td>\n",
       "      <td>4277465668</td>\n",
       "      <td>...</td>\n",
       "      <td>1.0</td>\n",
       "      <td>1.0</td>\n",
       "      <td>0</td>\n",
       "      <td>0</td>\n",
       "      <td>0</td>\n",
       "      <td>0</td>\n",
       "      <td>0</td>\n",
       "      <td>0.0</td>\n",
       "      <td>N</td>\n",
       "      <td>N</td>\n",
       "    </tr>\n",
       "  </tbody>\n",
       "</table>\n",
       "<p>5 rows × 45 columns</p>\n",
       "</div>"
      ],
      "text/plain": [
       "   codigo_ibge             nome  latitude  longitude  capital  codigo_uf  \\\n",
       "0      5200050  Abadia de Goiás  -16.7573   -49.4412        0         52   \n",
       "1      5200050  Abadia de Goiás  -16.7573   -49.4412        0         52   \n",
       "2      5200050  Abadia de Goiás  -16.7573   -49.4412        0         52   \n",
       "3      5200050  Abadia de Goiás  -16.7573   -49.4412        0         52   \n",
       "4      5200050  Abadia de Goiás  -16.7573   -49.4412        0         52   \n",
       "\n",
       "   ID_FAMILIA_CADUNICO        LAT        LOG  CODG_FAMILIAR  ...  \\\n",
       "0                 3961 -16.765013 -49.427965     2468632346  ...   \n",
       "1                 5466 -16.764245 -49.429278     3670635491  ...   \n",
       "2                 6314 -16.755795 -49.434151     4283312380  ...   \n",
       "3                 6554 -16.756827 -49.435021     4409597728  ...   \n",
       "4                 6289 -16.758034 -49.435705     4277465668  ...   \n",
       "\n",
       "   TIPO_CALCAMENTO TIPO_ESPECIE_DOMICILIO QTDE_CRIANCAS_ATE_3ANOS  \\\n",
       "0              1.0                    1.0                       0   \n",
       "1              2.0                    1.0                       0   \n",
       "2              1.0                    1.0                       0   \n",
       "3              1.0                    1.0                       0   \n",
       "4              1.0                    1.0                       0   \n",
       "\n",
       "   QTDE_CRIANCAS_ATE_6ANOS QTDE_MAIOR18_NAO_SABE_LER  \\\n",
       "0                        0                         0   \n",
       "1                        0                         0   \n",
       "2                        0                         1   \n",
       "3                        0                         0   \n",
       "4                        0                         0   \n",
       "\n",
       "  QTDE_ENTRE6E17_NAO_FREQ_ESCOLA QTDE_PESSOA_INTERNACAO  VALR_DESPESA_ALUGUEL  \\\n",
       "0                              0                      0                   0.0   \n",
       "1                              0                      0                   0.0   \n",
       "2                              0                      0                   0.0   \n",
       "3                              0                      0                   0.0   \n",
       "4                              0                      0                   0.0   \n",
       "\n",
       "  INDI_FAMILIA_RECEBE_BPC INDI_RECEBE_AJUDA_DEFIC_TERC  \n",
       "0                       S                            N  \n",
       "1                       N                            N  \n",
       "2                       S                            N  \n",
       "3                       N                            N  \n",
       "4                       N                            N  \n",
       "\n",
       "[5 rows x 45 columns]"
      ]
     },
     "execution_count": 3,
     "metadata": {},
     "output_type": "execute_result"
    }
   ],
   "source": [
    "dados.head()"
   ]
  },
  {
   "cell_type": "code",
   "execution_count": 4,
   "metadata": {},
   "outputs": [],
   "source": [
    "dados.drop(columns = ['codigo_ibge', 'capital','codigo_uf','NOME_UNIDADE_TERRITAL'], inplace = True)"
   ]
  },
  {
   "cell_type": "code",
   "execution_count": null,
   "metadata": {},
   "outputs": [],
   "source": [
    "#goias = pd.read_csv('dados/latitude_longitude_municipos_goianos.csv')"
   ]
  },
  {
   "cell_type": "markdown",
   "metadata": {},
   "source": [
    "### Tratando os Dados"
   ]
  },
  {
   "cell_type": "markdown",
   "metadata": {},
   "source": [
    "#### Normalizando nome cidade"
   ]
  },
  {
   "cell_type": "code",
   "execution_count": null,
   "metadata": {
    "scrolled": true
   },
   "outputs": [],
   "source": [
    "goias['nome'] =  goias['nome'].str.upper() #Transformando nome da cidade em maiusculo"
   ]
  },
  {
   "cell_type": "code",
   "execution_count": null,
   "metadata": {},
   "outputs": [],
   "source": [
    "nome_cidade = []\n",
    "for i in goias['nome']:\n",
    "    source = i\n",
    "    target = normalize('NFKD', source).encode('ASCII','ignore').decode('ASCII')\n",
    "    nome_cidade.append(target)\n",
    "    \n",
    "goias['nome_tratado'] = nome_cidade  # Retirando acentuação"
   ]
  },
  {
   "cell_type": "code",
   "execution_count": null,
   "metadata": {},
   "outputs": [],
   "source": [
    "goias.head()"
   ]
  },
  {
   "cell_type": "markdown",
   "metadata": {},
   "source": [
    "### Exportando dados"
   ]
  },
  {
   "cell_type": "code",
   "execution_count": 6,
   "metadata": {},
   "outputs": [],
   "source": [
    "novo_primeira_infancia_tratado = dados.to_csv ('dados/primeira_infancia_300k_tratado.csv', index = None, header=True)\n",
    "novo_primeira_infancia_tratado"
   ]
  },
  {
   "cell_type": "code",
   "execution_count": null,
   "metadata": {},
   "outputs": [],
   "source": []
  }
 ],
 "metadata": {
  "kernelspec": {
   "display_name": "Python 3",
   "language": "python",
   "name": "python3"
  },
  "language_info": {
   "codemirror_mode": {
    "name": "ipython",
    "version": 3
   },
   "file_extension": ".py",
   "mimetype": "text/x-python",
   "name": "python",
   "nbconvert_exporter": "python",
   "pygments_lexer": "ipython3",
   "version": "3.7.3"
  }
 },
 "nbformat": 4,
 "nbformat_minor": 2
}
